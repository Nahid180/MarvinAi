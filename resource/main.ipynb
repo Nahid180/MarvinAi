{
 "cells": [
  {
   "cell_type": "code",
   "execution_count": null,
   "source": [
    "import tensorflow as tf"
   ],
   "outputs": [],
   "metadata": {}
  }
 ],
 "metadata": {
  "orig_nbformat": 4,
  "language_info": {
   "name": "python",
   "version": "3.9.5"
  },
  "kernelspec": {
   "name": "python3",
   "display_name": "Python 3.9.5 64-bit"
  },
  "interpreter": {
   "hash": "cfaf84790b301521e18f07f1690c4798706e4cefea050da4e59c54fc63ca639f"
  }
 },
 "nbformat": 4,
 "nbformat_minor": 2
}